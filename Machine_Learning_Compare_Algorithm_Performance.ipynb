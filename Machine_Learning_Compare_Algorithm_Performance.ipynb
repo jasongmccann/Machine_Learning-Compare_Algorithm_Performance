{
  "cells": [
    {
      "cell_type": "markdown",
      "metadata": {
        "id": "ClkqpmuHhjtZ"
      },
      "source": [
        "The Following algorithms will be used for comparing performance on each of the 5 datasets:\n",
        "\n",
        "Logistic Regression\n",
        "\n",
        "K-Nearest Neighbor\n",
        "\n",
        "Decision Tree\n",
        "\n",
        "Random Forest\n",
        "\n",
        "Bernoulli Naive Bayes"
      ]
    },
    {
      "cell_type": "code",
      "execution_count": 69,
      "metadata": {
        "colab": {
          "base_uri": "https://localhost:8080/"
        },
        "id": "M_SKot-63dj0",
        "outputId": "84e0822f-e0d8-4dc8-a49e-3fc9acb9227a"
      },
      "outputs": [
        {
          "name": "stdout",
          "output_type": "stream",
          "text": [
            "Drive already mounted at /content/drive; to attempt to forcibly remount, call drive.mount(\"/content/drive\", force_remount=True).\n"
          ]
        }
      ],
      "source": [
        "# Mounting Drive\n",
        "from google.colab import drive\n",
        "drive.mount ('/content/drive')\n",
        "# Directing program to same directory as the csv file and ipynb file in the next code cell"
      ]
    },
    {
      "cell_type": "code",
      "execution_count": 70,
      "metadata": {
        "colab": {
          "base_uri": "https://localhost:8080/"
        },
        "id": "k_lCI70p3eWE",
        "outputId": "b01b7cea-f0d7-45a3-8b5d-68ad8d26a845"
      },
      "outputs": [
        {
          "name": "stdout",
          "output_type": "stream",
          "text": [
            "/content/drive/MyDrive/Colab Notebooks\n"
          ]
        }
      ],
      "source": [
        "cd '/content/drive/MyDrive/Colab Notebooks' "
      ]
    },
    {
      "cell_type": "code",
      "execution_count": 71,
      "metadata": {
        "id": "Z8xaStkr3hTE"
      },
      "outputs": [],
      "source": [
        "# Importing Pandas\n",
        "import pandas as pd\n",
        "# Imports from sklearn\n",
        "from sklearn.model_selection import train_test_split\n",
        "from sklearn.linear_model import LogisticRegression\n",
        "from sklearn.neighbors import KNeighborsClassifier\n",
        "from sklearn.tree import DecisionTreeClassifier\n",
        "from sklearn.ensemble import RandomForestClassifier\n",
        "from sklearn.naive_bayes import BernoulliNB\n",
        "from sklearn.preprocessing import StandardScaler\n",
        "from sklearn import metrics"
      ]
    },
    {
      "cell_type": "code",
      "execution_count": 72,
      "metadata": {
        "id": "WXpPuDzrd5a7"
      },
      "outputs": [],
      "source": [
        "# Learning function to get the performance for the training and testing sets, as well as the confusion matrix.\n",
        "def learning (X_train, X_test, y_train, y_test, model):\n",
        "  model = model.fit(X_train, y_train)\n",
        "  predTrainLearning = model.predict(X_train)\n",
        "  predTestLearning = model.predict(X_test)\n",
        "  print(\"Performance (Train): \")\n",
        "  print(metrics.classification_report(y_train, predTrainLearning))\n",
        "  print(\"Performance (Test): \")\n",
        "  print(metrics.classification_report(y_test, predTestLearning))\n",
        "  print(\"Confusion Matrix (Test): \")\n",
        "  print(metrics.ConfusionMatrixDisplay.from_predictions(y_test, predTestLearning))\n",
        "  return model"
      ]
    },
    {
      "cell_type": "markdown",
      "metadata": {
        "id": "Vci4qYG22sSo"
      },
      "source": [
        "#Dataset 1: Kidney Disease Prediction\n",
        "\n",
        "\n",
        "\n",
        "Source: https://www.kaggle.com/datasets/abhia1999/chronic-kidney-disease"
      ]
    },
    {
      "cell_type": "code",
      "execution_count": 73,
      "metadata": {
        "colab": {
          "base_uri": "https://localhost:8080/"
        },
        "id": "G59q4vvM2zJI",
        "outputId": "b7fbada4-e6cb-4278-c2e7-7ef6ab2ce608"
      },
      "outputs": [
        {
          "name": "stdout",
          "output_type": "stream",
          "text": [
            "       Bp     Sg   Al   Su  Rbc    Bu   Sc     Sod   Pot  Hemo    Wbcc  Rbcc  \\\n",
            "0    80.0  1.020  1.0  0.0  1.0  36.0  1.2  137.53  4.63  15.4  7800.0  5.20   \n",
            "1    50.0  1.020  4.0  0.0  1.0  18.0  0.8  137.53  4.63  11.3  6000.0  4.71   \n",
            "2    80.0  1.010  2.0  3.0  1.0  53.0  1.8  137.53  4.63   9.6  7500.0  4.71   \n",
            "3    70.0  1.005  4.0  0.0  1.0  56.0  3.8  111.00  2.50  11.2  6700.0  3.90   \n",
            "4    80.0  1.010  2.0  0.0  1.0  26.0  1.4  137.53  4.63  11.6  7300.0  4.60   \n",
            "..    ...    ...  ...  ...  ...   ...  ...     ...   ...   ...     ...   ...   \n",
            "395  80.0  1.020  0.0  0.0  1.0  49.0  0.5  150.00  4.90  15.7  6700.0  4.90   \n",
            "396  70.0  1.025  0.0  0.0  1.0  31.0  1.2  141.00  3.50  16.5  7800.0  6.20   \n",
            "397  80.0  1.020  0.0  0.0  1.0  26.0  0.6  137.00  4.40  15.8  6600.0  5.40   \n",
            "398  60.0  1.025  0.0  0.0  1.0  50.0  1.0  135.00  4.90  14.2  7200.0  5.90   \n",
            "399  80.0  1.025  0.0  0.0  1.0  18.0  1.1  141.00  3.50  15.8  6800.0  6.10   \n",
            "\n",
            "     Htn  Class  \n",
            "0    1.0      1  \n",
            "1    0.0      1  \n",
            "2    0.0      1  \n",
            "3    1.0      1  \n",
            "4    0.0      1  \n",
            "..   ...    ...  \n",
            "395  0.0      0  \n",
            "396  0.0      0  \n",
            "397  0.0      0  \n",
            "398  0.0      0  \n",
            "399  0.0      0  \n",
            "\n",
            "[400 rows x 14 columns]\n"
          ]
        }
      ],
      "source": [
        "# Reading the dataset file from Google Drive\n",
        "kidney = pd.read_csv('kidney.csv')\n",
        "# Displaying the dataset\n",
        "print(kidney)\n",
        "# Separating the Input features and the Output features\n",
        "IN_kidney = kidney[['Bp','Sg','Al','Su','Rbc','Bu','Sc','Sod','Pot','Hemo','Wbcc','Rbcc','Htn']]\n",
        "OUT_kidney = kidney['Class']\n",
        "# Creating X and Y training and testing sets by way of train_test_split\n",
        "X_kidney = IN_kidney.values\n",
        "y_kidney = OUT_kidney.values\n",
        "X_train_kidney, X_test_kidney, y_train_kidney, y_test_kidney = train_test_split(X_kidney, y_kidney,test_size=0.2, train_size=0.8)\n",
        "# Standardizing the X training and testing datasets\n",
        "sc_kidney = StandardScaler().fit(X_train_kidney)\n",
        "X_train_std_kidney = sc_kidney.transform(X_train_kidney)\n",
        "X_test_std_kidney = sc_kidney.transform(X_test_kidney)"
      ]
    },
    {
      "cell_type": "code",
      "execution_count": 74,
      "metadata": {
        "colab": {
          "base_uri": "https://localhost:8080/",
          "height": 678
        },
        "id": "iaqMKWLwpm2d",
        "outputId": "6286726e-cea0-415c-8d56-c16b239190d3"
      },
      "outputs": [
        {
          "name": "stdout",
          "output_type": "stream",
          "text": [
            "Logistic Regression Model: \n",
            "Performance (Train): \n",
            "              precision    recall  f1-score   support\n",
            "\n",
            "           0       0.97      0.99      0.98       118\n",
            "           1       0.99      0.98      0.99       202\n",
            "\n",
            "    accuracy                           0.98       320\n",
            "   macro avg       0.98      0.99      0.98       320\n",
            "weighted avg       0.98      0.98      0.98       320\n",
            "\n",
            "Performance (Test): \n",
            "              precision    recall  f1-score   support\n",
            "\n",
            "           0       1.00      0.97      0.98        32\n",
            "           1       0.98      1.00      0.99        48\n",
            "\n",
            "    accuracy                           0.99        80\n",
            "   macro avg       0.99      0.98      0.99        80\n",
            "weighted avg       0.99      0.99      0.99        80\n",
            "\n",
            "Confusion Matrix (Test): \n",
            "<sklearn.metrics._plot.confusion_matrix.ConfusionMatrixDisplay object at 0x7f40388b4880>\n"
          ]
        },
        {
          "data": {
            "image/png": "[encoded data removed]",
            "text/plain": [
              "<Figure size 432x288 with 2 Axes>"
            ]
          },
          "metadata": {
            "needs_background": "light"
          },
          "output_type": "display_data"
        }
      ],
      "source": [
        "print(\"Logistic Regression Model: \")\n",
        "logreg_kidney = LogisticRegression(max_iter=10000)\n",
        "logreg_kidney = learning(X_train_std_kidney, X_test_std_kidney, y_train_kidney, y_test_kidney, logreg_kidney)"
      ]
    },
    {
      "cell_type": "code",
      "execution_count": 75,
      "metadata": {
        "colab": {
          "base_uri": "https://localhost:8080/",
          "height": 678
        },
        "id": "ffuIoOE2qOBd",
        "outputId": "5a8c33ea-4a75-4778-9cb4-bc94fc068f52"
      },
      "outputs": [
        {
          "name": "stdout",
          "output_type": "stream",
          "text": [
            "KNN Model: \n",
            "Performance (Train): \n",
            "              precision    recall  f1-score   support\n",
            "\n",
            "           0       0.96      0.98      0.97       118\n",
            "           1       0.99      0.98      0.98       202\n",
            "\n",
            "    accuracy                           0.98       320\n",
            "   macro avg       0.97      0.98      0.98       320\n",
            "weighted avg       0.98      0.98      0.98       320\n",
            "\n",
            "Performance (Test): \n",
            "              precision    recall  f1-score   support\n",
            "\n",
            "           0       1.00      0.97      0.98        32\n",
            "           1       0.98      1.00      0.99        48\n",
            "\n",
            "    accuracy                           0.99        80\n",
            "   macro avg       0.99      0.98      0.99        80\n",
            "weighted avg       0.99      0.99      0.99        80\n",
            "\n",
            "Confusion Matrix (Test): \n",
            "<sklearn.metrics._plot.confusion_matrix.ConfusionMatrixDisplay object at 0x7f403886d520>\n"
          ]
        },
        {
          "data": {
            "image/png": "[encoded data removed]",
            "text/plain": [
              "<Figure size 432x288 with 2 Axes>"
            ]
          },
          "metadata": {
            "needs_background": "light"
          },
          "output_type": "display_data"
        }
      ],
      "source": [
        "print(\"KNN Model: \")\n",
        "neigh_kidney = KNeighborsClassifier()\n",
        "neigh_kidney = learning(X_train_std_kidney, X_test_std_kidney, y_train_kidney, y_test_kidney, neigh_kidney)"
      ]
    },
    {
      "cell_type": "code",
      "execution_count": 76,
      "metadata": {
        "colab": {
          "base_uri": "https://localhost:8080/",
          "height": 678
        },
        "id": "fsWhwt-dqOW_",
        "outputId": "6af3dcf4-bf04-4680-bb94-ef4aa13d780f"
      },
      "outputs": [
        {
          "name": "stdout",
          "output_type": "stream",
          "text": [
            "Decision Tree Model: \n",
            "Performance (Train): \n",
            "              precision    recall  f1-score   support\n",
            "\n",
            "           0       1.00      0.97      0.98       118\n",
            "           1       0.98      1.00      0.99       202\n",
            "\n",
            "    accuracy                           0.99       320\n",
            "   macro avg       0.99      0.98      0.99       320\n",
            "weighted avg       0.99      0.99      0.99       320\n",
            "\n",
            "Performance (Test): \n",
            "              precision    recall  f1-score   support\n",
            "\n",
            "           0       1.00      0.97      0.98        32\n",
            "           1       0.98      1.00      0.99        48\n",
            "\n",
            "    accuracy                           0.99        80\n",
            "   macro avg       0.99      0.98      0.99        80\n",
            "weighted avg       0.99      0.99      0.99        80\n",
            "\n",
            "Confusion Matrix (Test): \n",
            "<sklearn.metrics._plot.confusion_matrix.ConfusionMatrixDisplay object at 0x7f4038dfaaf0>\n"
          ]
        },
        {
          "data": {
            "image/png": "[encoded data removed]",
            "text/plain": [
              "<Figure size 432x288 with 2 Axes>"
            ]
          },
          "metadata": {
            "needs_background": "light"
          },
          "output_type": "display_data"
        }
      ],
      "source": [
        "print(\"Decision Tree Model: \")\n",
        "tree_kidney = DecisionTreeClassifier(max_depth=3, random_state=42)\n",
        "tree_kidney = learning(X_train_std_kidney, X_test_std_kidney, y_train_kidney, y_test_kidney, tree_kidney)"
      ]
    },
    {
      "cell_type": "code",
      "execution_count": 77,
      "metadata": {
        "colab": {
          "base_uri": "https://localhost:8080/",
          "height": 678
        },
        "id": "tosVquWTqOsy",
        "outputId": "38244a8a-ec9b-45df-f947-7c90cfd68b2d"
      },
      "outputs": [
        {
          "name": "stdout",
          "output_type": "stream",
          "text": [
            "Random Forest Model:\n",
            "Performance (Train): \n",
            "              precision    recall  f1-score   support\n",
            "\n",
            "           0       0.98      0.98      0.98       118\n",
            "           1       0.99      0.99      0.99       202\n",
            "\n",
            "    accuracy                           0.99       320\n",
            "   macro avg       0.99      0.99      0.99       320\n",
            "weighted avg       0.99      0.99      0.99       320\n",
            "\n",
            "Performance (Test): \n",
            "              precision    recall  f1-score   support\n",
            "\n",
            "           0       1.00      0.97      0.98        32\n",
            "           1       0.98      1.00      0.99        48\n",
            "\n",
            "    accuracy                           0.99        80\n",
            "   macro avg       0.99      0.98      0.99        80\n",
            "weighted avg       0.99      0.99      0.99        80\n",
            "\n",
            "Confusion Matrix (Test): \n",
            "<sklearn.metrics._plot.confusion_matrix.ConfusionMatrixDisplay object at 0x7f403885d400>\n"
          ]
        },
        {
          "data": {
            "image/png": "[encoded data removed]",
            "text/plain": [
              "<Figure size 432x288 with 2 Axes>"
            ]
          },
          "metadata": {
            "needs_background": "light"
          },
          "output_type": "display_data"
        }
      ],
      "source": [
        "print(\"Random Forest Model:\")\n",
        "rf_kidney = RandomForestClassifier(n_estimators = 50, max_depth = 3, random_state=42)\n",
        "rf_kidney = learning(X_train_std_kidney, X_test_std_kidney, y_train_kidney, y_test_kidney, rf_kidney)"
      ]
    },
    {
      "cell_type": "code",
      "execution_count": 78,
      "metadata": {
        "colab": {
          "base_uri": "https://localhost:8080/",
          "height": 678
        },
        "id": "eGTX4ftNqXuk",
        "outputId": "4dbb8258-fb76-4ae1-dcd5-a67afa9a64c7"
      },
      "outputs": [
        {
          "name": "stdout",
          "output_type": "stream",
          "text": [
            "Bernoulli Naïve Bayes Model: \n",
            "Performance (Train): \n",
            "              precision    recall  f1-score   support\n",
            "\n",
            "           0       0.91      0.98      0.95       118\n",
            "           1       0.99      0.95      0.97       202\n",
            "\n",
            "    accuracy                           0.96       320\n",
            "   macro avg       0.95      0.96      0.96       320\n",
            "weighted avg       0.96      0.96      0.96       320\n",
            "\n",
            "Performance (Test): \n",
            "              precision    recall  f1-score   support\n",
            "\n",
            "           0       0.89      1.00      0.94        32\n",
            "           1       1.00      0.92      0.96        48\n",
            "\n",
            "    accuracy                           0.95        80\n",
            "   macro avg       0.94      0.96      0.95        80\n",
            "weighted avg       0.96      0.95      0.95        80\n",
            "\n",
            "Confusion Matrix (Test): \n",
            "<sklearn.metrics._plot.confusion_matrix.ConfusionMatrixDisplay object at 0x7f4035eb6910>\n"
          ]
        },
        {
          "data": {
            "image/png": "[encoded data removed]",
            "text/plain": [
              "<Figure size 432x288 with 2 Axes>"
            ]
          },
          "metadata": {
            "needs_background": "light"
          },
          "output_type": "display_data"
        }
      ],
      "source": [
        "print('Bernoulli Naïve Bayes Model: ')\n",
        "bnb_kidney = BernoulliNB(alpha = 1.0)\n",
        "bnb_kidney = learning(X_train_std_kidney, X_test_std_kidney, y_train_kidney, y_test_kidney, bnb_kidney)"
      ]
    },
    {
      "cell_type": "markdown",
      "metadata": {
        "id": "SKNamOkz2yrD"
      },
      "source": [
        "#Dataset 2: Employee's Future Prediction\n",
        "Source: https://www.kaggle.com/datasets/tejashvi14/employee-future-prediction\n",
        "\n"
      ]
    },
    {
      "cell_type": "code",
      "execution_count": 79,
      "metadata": {
        "colab": {
          "base_uri": "https://localhost:8080/"
        },
        "id": "XChqvUaq21YY",
        "outputId": "1b90162d-f921-485b-8d94-66aab67faf4c"
      },
      "outputs": [
        {
          "name": "stdout",
          "output_type": "stream",
          "text": [
            "      Education  JoiningYear       City  PaymentTier  Age  Gender EverBenched  \\\n",
            "0     Bachelors         2017  Bangalore            3   34    Male          No   \n",
            "1     Bachelors         2013       Pune            1   28  Female          No   \n",
            "2     Bachelors         2014  New Delhi            3   38  Female          No   \n",
            "3       Masters         2016  Bangalore            3   27    Male          No   \n",
            "4       Masters         2017       Pune            3   24    Male         Yes   \n",
            "...         ...          ...        ...          ...  ...     ...         ...   \n",
            "4648  Bachelors         2013  Bangalore            3   26  Female          No   \n",
            "4649    Masters         2013       Pune            2   37    Male          No   \n",
            "4650    Masters         2018  New Delhi            3   27    Male          No   \n",
            "4651  Bachelors         2012  Bangalore            3   30    Male         Yes   \n",
            "4652  Bachelors         2015  Bangalore            3   33    Male         Yes   \n",
            "\n",
            "      ExperienceInCurrentDomain  LeaveOrNot  \n",
            "0                             0           0  \n",
            "1                             3           1  \n",
            "2                             2           0  \n",
            "3                             5           1  \n",
            "4                             2           1  \n",
            "...                         ...         ...  \n",
            "4648                          4           0  \n",
            "4649                          2           1  \n",
            "4650                          5           1  \n",
            "4651                          2           0  \n",
            "4652                          4           0  \n",
            "\n",
            "[4653 rows x 9 columns]\n"
          ]
        }
      ],
      "source": [
        "# Reading the dataset file from Google Drive\n",
        "employees = pd.read_csv('employee.csv')\n",
        "# Displaying the dataset\n",
        "print(employees)\n",
        "# Applying one-hot encoding for the dataset\n",
        "oheEmployees = pd.get_dummies(employees)\n",
        "# Separating the Input features and the Output features\n",
        "IN_employees = oheEmployees[['JoiningYear','PaymentTier','Age','ExperienceInCurrentDomain','Education_Bachelors','Education_Masters','Education_PHD','City_Bangalore','City_New Delhi','City_Pune','Gender_Female','Gender_Male','EverBenched_No','EverBenched_Yes']]\n",
        "OUT_employees = oheEmployees['LeaveOrNot']\n",
        "# Creating X and Y training and testing sets by way of train_test_split\n",
        "X_employees = IN_employees.values\n",
        "y_employees = OUT_employees.values\n",
        "X_train_employees, X_test_employees, y_train_employees, y_test_employees = train_test_split(X_employees, y_employees,test_size=0.2, train_size=0.8)\n",
        "# Standardizing the X training and testing datasets\n",
        "sc_employees = StandardScaler().fit(X_train_employees)\n",
        "X_train_std_employees = sc_employees.transform(X_train_employees)\n",
        "X_test_std_employees = sc_employees.transform(X_test_employees)"
      ]
    },
    {
      "cell_type": "code",
      "execution_count": 80,
      "metadata": {
        "colab": {
          "base_uri": "https://localhost:8080/",
          "height": 678
        },
        "id": "tfxwI6sO7PcA",
        "outputId": "a423f115-1125-4acb-a2a4-b13264199c3b"
      },
      "outputs": [
        {
          "name": "stdout",
          "output_type": "stream",
          "text": [
            "Logistic Regression Model: \n",
            "Performance (Train): \n",
            "              precision    recall  f1-score   support\n",
            "\n",
            "           0       0.75      0.90      0.81      2424\n",
            "           1       0.69      0.43      0.53      1298\n",
            "\n",
            "    accuracy                           0.73      3722\n",
            "   macro avg       0.72      0.66      0.67      3722\n",
            "weighted avg       0.73      0.73      0.71      3722\n",
            "\n",
            "Performance (Test): \n",
            "              precision    recall  f1-score   support\n",
            "\n",
            "           0       0.76      0.91      0.83       629\n",
            "           1       0.68      0.42      0.52       302\n",
            "\n",
            "    accuracy                           0.75       931\n",
            "   macro avg       0.72      0.66      0.67       931\n",
            "weighted avg       0.74      0.75      0.73       931\n",
            "\n",
            "Confusion Matrix (Test): \n",
            "<sklearn.metrics._plot.confusion_matrix.ConfusionMatrixDisplay object at 0x7f403886d550>\n"
          ]
        },
        {
          "data": {
            "image/png": "[encoded data removed]",
            "text/plain": [
              "<Figure size 432x288 with 2 Axes>"
            ]
          },
          "metadata": {
            "needs_background": "light"
          },
          "output_type": "display_data"
        }
      ],
      "source": [
        "print(\"Logistic Regression Model: \")\n",
        "logreg_employees = LogisticRegression(max_iter=10000)\n",
        "logreg_employees = learning(X_train_std_employees, X_test_std_employees, y_train_employees, y_test_employees, logreg_employees)"
      ]
    },
    {
      "cell_type": "code",
      "execution_count": 81,
      "metadata": {
        "colab": {
          "base_uri": "https://localhost:8080/",
          "height": 678
        },
        "id": "pfK0PBUAeE7S",
        "outputId": "31f63e81-0165-4417-efed-3a42c6b377af"
      },
      "outputs": [
        {
          "name": "stdout",
          "output_type": "stream",
          "text": [
            "KNN Model: \n",
            "Performance (Train): \n",
            "              precision    recall  f1-score   support\n",
            "\n",
            "           0       0.85      0.93      0.89      2424\n",
            "           1       0.84      0.68      0.75      1298\n",
            "\n",
            "    accuracy                           0.84      3722\n",
            "   macro avg       0.84      0.81      0.82      3722\n",
            "weighted avg       0.84      0.84      0.84      3722\n",
            "\n",
            "Performance (Test): \n",
            "              precision    recall  f1-score   support\n",
            "\n",
            "           0       0.84      0.93      0.88       629\n",
            "           1       0.81      0.64      0.72       302\n",
            "\n",
            "    accuracy                           0.84       931\n",
            "   macro avg       0.83      0.79      0.80       931\n",
            "weighted avg       0.83      0.84      0.83       931\n",
            "\n",
            "Confusion Matrix (Test): \n",
            "<sklearn.metrics._plot.confusion_matrix.ConfusionMatrixDisplay object at 0x7f4035b8fe20>\n"
          ]
        },
        {
          "data": {
            "image/png": "[encoded data removed]",
            "text/plain": [
              "<Figure size 432x288 with 2 Axes>"
            ]
          },
          "metadata": {
            "needs_background": "light"
          },
          "output_type": "display_data"
        }
      ],
      "source": [
        "print(\"KNN Model: \")\n",
        "neigh_employees = KNeighborsClassifier()\n",
        "neigh_employees = learning(X_train_std_employees, X_test_std_employees, y_train_employees, y_test_employees, neigh_employees)"
      ]
    },
    {
      "cell_type": "code",
      "execution_count": 82,
      "metadata": {
        "colab": {
          "base_uri": "https://localhost:8080/",
          "height": 678
        },
        "id": "eB_p_fz8eJqS",
        "outputId": "fa2022d7-37bd-4420-9d81-ceaedd56a768"
      },
      "outputs": [
        {
          "name": "stdout",
          "output_type": "stream",
          "text": [
            "Decision Tree Model: \n",
            "Performance (Train): \n",
            "              precision    recall  f1-score   support\n",
            "\n",
            "           0       0.78      0.94      0.85      2424\n",
            "           1       0.82      0.50      0.62      1298\n",
            "\n",
            "    accuracy                           0.79      3722\n",
            "   macro avg       0.80      0.72      0.74      3722\n",
            "weighted avg       0.79      0.79      0.77      3722\n",
            "\n",
            "Performance (Test): \n",
            "              precision    recall  f1-score   support\n",
            "\n",
            "           0       0.80      0.94      0.86       629\n",
            "           1       0.81      0.50      0.62       302\n",
            "\n",
            "    accuracy                           0.80       931\n",
            "   macro avg       0.80      0.72      0.74       931\n",
            "weighted avg       0.80      0.80      0.78       931\n",
            "\n",
            "Confusion Matrix (Test): \n",
            "<sklearn.metrics._plot.confusion_matrix.ConfusionMatrixDisplay object at 0x7f4035bdd700>\n"
          ]
        },
        {
          "data": {
            "image/png": "[encoded data removed]",
            "text/plain": [
              "<Figure size 432x288 with 2 Axes>"
            ]
          },
          "metadata": {
            "needs_background": "light"
          },
          "output_type": "display_data"
        }
      ],
      "source": [
        "print(\"Decision Tree Model: \")\n",
        "tree_employees = DecisionTreeClassifier(max_depth=3, random_state=42)\n",
        "tree_employees = learning(X_train_std_employees, X_test_std_employees, y_train_employees, y_test_employees, tree_employees)"
      ]
    },
    {
      "cell_type": "code",
      "execution_count": 83,
      "metadata": {
        "colab": {
          "base_uri": "https://localhost:8080/",
          "height": 678
        },
        "id": "3ngSBRiGeNZz",
        "outputId": "bfef325d-2fb8-45de-e95d-011f66470134"
      },
      "outputs": [
        {
          "name": "stdout",
          "output_type": "stream",
          "text": [
            "Random Forest Model:\n",
            "Performance (Train): \n",
            "              precision    recall  f1-score   support\n",
            "\n",
            "           0       0.77      0.98      0.86      2424\n",
            "           1       0.91      0.45      0.60      1298\n",
            "\n",
            "    accuracy                           0.79      3722\n",
            "   macro avg       0.84      0.71      0.73      3722\n",
            "weighted avg       0.82      0.79      0.77      3722\n",
            "\n",
            "Performance (Test): \n",
            "              precision    recall  f1-score   support\n",
            "\n",
            "           0       0.80      0.97      0.88       629\n",
            "           1       0.89      0.50      0.64       302\n",
            "\n",
            "    accuracy                           0.82       931\n",
            "   macro avg       0.85      0.73      0.76       931\n",
            "weighted avg       0.83      0.82      0.80       931\n",
            "\n",
            "Confusion Matrix (Test): \n",
            "<sklearn.metrics._plot.confusion_matrix.ConfusionMatrixDisplay object at 0x7f403891e3a0>\n"
          ]
        },
        {
          "data": {
            "image/png": "[encoded data removed]",
            "text/plain": [
              "<Figure size 432x288 with 2 Axes>"
            ]
          },
          "metadata": {
            "needs_background": "light"
          },
          "output_type": "display_data"
        }
      ],
      "source": [
        "print(\"Random Forest Model:\")\n",
        "rf_employees = RandomForestClassifier(n_estimators = 50, max_depth = 3, random_state=42)\n",
        "rf_employees = learning(X_train_std_employees, X_test_std_employees, y_train_employees, y_test_employees, rf_employees)"
      ]
    },
    {
      "cell_type": "code",
      "execution_count": 84,
      "metadata": {
        "colab": {
          "base_uri": "https://localhost:8080/",
          "height": 678
        },
        "id": "Gq-L-SdveQM5",
        "outputId": "00926187-20d3-4c1c-87bb-48b83e4e6d8e"
      },
      "outputs": [
        {
          "name": "stdout",
          "output_type": "stream",
          "text": [
            "Bernoulli Naïve Bayes Model: \n",
            "Performance (Train): \n",
            "              precision    recall  f1-score   support\n",
            "\n",
            "           0       0.77      0.82      0.79      2424\n",
            "           1       0.61      0.54      0.57      1298\n",
            "\n",
            "    accuracy                           0.72      3722\n",
            "   macro avg       0.69      0.68      0.68      3722\n",
            "weighted avg       0.71      0.72      0.72      3722\n",
            "\n",
            "Performance (Test): \n",
            "              precision    recall  f1-score   support\n",
            "\n",
            "           0       0.80      0.83      0.81       629\n",
            "           1       0.61      0.56      0.58       302\n",
            "\n",
            "    accuracy                           0.74       931\n",
            "   macro avg       0.70      0.69      0.70       931\n",
            "weighted avg       0.73      0.74      0.74       931\n",
            "\n",
            "Confusion Matrix (Test): \n",
            "<sklearn.metrics._plot.confusion_matrix.ConfusionMatrixDisplay object at 0x7f4035e27d30>\n"
          ]
        },
        {
          "data": {
            "image/png": "[encoded data removed]",
            "text/plain": [
              "<Figure size 432x288 with 2 Axes>"
            ]
          },
          "metadata": {
            "needs_background": "light"
          },
          "output_type": "display_data"
        }
      ],
      "source": [
        "print('Bernoulli Naïve Bayes Model: ')\n",
        "bnb_employees = BernoulliNB(alpha = 1.0)\n",
        "bnb_employees = learning(X_train_std_employees, X_test_std_employees, y_train_employees, y_test_employees, bnb_employees)"
      ]
    },
    {
      "cell_type": "markdown",
      "metadata": {
        "id": "yTNFkyxY22GP"
      },
      "source": [
        "#Dataset 3: Diabities Prediction\n",
        "Source: https://www.kaggle.com/datasets/whenamancodes/predict-diabities"
      ]
    },
    {
      "cell_type": "code",
      "execution_count": 85,
      "metadata": {
        "colab": {
          "base_uri": "https://localhost:8080/"
        },
        "id": "JT53t5Sj234Y",
        "outputId": "9e5ffe73-8962-47a4-ccc6-b7fc8e8f1af8"
      },
      "outputs": [
        {
          "name": "stdout",
          "output_type": "stream",
          "text": [
            "     Pregnancies  Glucose  BloodPressure  SkinThickness  Insulin   BMI  \\\n",
            "0              6      148             72             35        0  33.6   \n",
            "1              1       85             66             29        0  26.6   \n",
            "2              8      183             64              0        0  23.3   \n",
            "3              1       89             66             23       94  28.1   \n",
            "4              0      137             40             35      168  43.1   \n",
            "..           ...      ...            ...            ...      ...   ...   \n",
            "763           10      101             76             48      180  32.9   \n",
            "764            2      122             70             27        0  36.8   \n",
            "765            5      121             72             23      112  26.2   \n",
            "766            1      126             60              0        0  30.1   \n",
            "767            1       93             70             31        0  30.4   \n",
            "\n",
            "     DiabetesPedigreeFunction  Age  Outcome  \n",
            "0                       0.627   50        1  \n",
            "1                       0.351   31        0  \n",
            "2                       0.672   32        1  \n",
            "3                       0.167   21        0  \n",
            "4                       2.288   33        1  \n",
            "..                        ...  ...      ...  \n",
            "763                     0.171   63        0  \n",
            "764                     0.340   27        0  \n",
            "765                     0.245   30        0  \n",
            "766                     0.349   47        1  \n",
            "767                     0.315   23        0  \n",
            "\n",
            "[768 rows x 9 columns]\n"
          ]
        }
      ],
      "source": [
        "# Reading the dataset file from Google Drive\n",
        "diabetes = pd.read_csv('diabetes.csv')\n",
        "# Displaying the dataset\n",
        "print(diabetes)\n",
        "# Separating the Input features and the Output features\n",
        "IN_diabetes = diabetes[['Pregnancies','Glucose','BloodPressure','SkinThickness','Insulin','BMI','DiabetesPedigreeFunction','Age']]\n",
        "OUT_diabetes = diabetes['Outcome']\n",
        "# Creating X and Y training and testing sets by way of train_test_split\n",
        "X_diabetes = IN_diabetes.values\n",
        "y_diabetes = OUT_diabetes.values\n",
        "X_train_diabetes, X_test_diabetes, y_train_diabetes, y_test_diabetes = train_test_split(X_diabetes, y_diabetes,test_size=0.2, train_size=0.8)\n",
        "# Standardizing the X training and testing datasets\n",
        "sc_diabetes = StandardScaler().fit(X_train_diabetes)\n",
        "X_train_std_diabetes = sc_diabetes.transform(X_train_diabetes)\n",
        "X_test_std_diabetes = sc_diabetes.transform(X_test_diabetes)"
      ]
    },
    {
      "cell_type": "code",
      "execution_count": 86,
      "metadata": {
        "colab": {
          "base_uri": "https://localhost:8080/",
          "height": 679
        },
        "id": "70aOvcafnG5e",
        "outputId": "7707dd74-faaf-4046-e6b1-338e50f31a1a"
      },
      "outputs": [
        {
          "name": "stdout",
          "output_type": "stream",
          "text": [
            "Logistic Regression Model: \n",
            "Performance (Train): \n",
            "              precision    recall  f1-score   support\n",
            "\n",
            "           0       0.79      0.89      0.84       403\n",
            "           1       0.73      0.56      0.63       211\n",
            "\n",
            "    accuracy                           0.78       614\n",
            "   macro avg       0.76      0.73      0.74       614\n",
            "weighted avg       0.77      0.78      0.77       614\n",
            "\n",
            "Performance (Test): \n",
            "              precision    recall  f1-score   support\n",
            "\n",
            "           0       0.80      0.84      0.82        97\n",
            "           1       0.70      0.65      0.67        57\n",
            "\n",
            "    accuracy                           0.77       154\n",
            "   macro avg       0.75      0.74      0.75       154\n",
            "weighted avg       0.76      0.77      0.76       154\n",
            "\n",
            "Confusion Matrix (Test): \n",
            "<sklearn.metrics._plot.confusion_matrix.ConfusionMatrixDisplay object at 0x7f4035efeca0>\n"
          ]
        },
        {
          "data": {
            "image/png": "[encoded data removed]",
            "text/plain": [
              "<Figure size 432x288 with 2 Axes>"
            ]
          },
          "metadata": {
            "needs_background": "light"
          },
          "output_type": "display_data"
        }
      ],
      "source": [
        "print(\"Logistic Regression Model: \")\n",
        "logreg_diabetes = LogisticRegression(max_iter=10000)\n",
        "logreg_diabetes = learning(X_train_std_diabetes, X_test_std_diabetes, y_train_diabetes, y_test_diabetes, logreg_diabetes)"
      ]
    },
    {
      "cell_type": "code",
      "execution_count": 87,
      "metadata": {
        "colab": {
          "base_uri": "https://localhost:8080/",
          "height": 678
        },
        "id": "5ZUFwRHgnHQi",
        "outputId": "5583acb2-10cd-4dd8-8657-cbb8a735416f"
      },
      "outputs": [
        {
          "name": "stdout",
          "output_type": "stream",
          "text": [
            "KNN Model: \n",
            "Performance (Train): \n",
            "              precision    recall  f1-score   support\n",
            "\n",
            "           0       0.84      0.91      0.88       403\n",
            "           1       0.80      0.67      0.73       211\n",
            "\n",
            "    accuracy                           0.83       614\n",
            "   macro avg       0.82      0.79      0.80       614\n",
            "weighted avg       0.83      0.83      0.82       614\n",
            "\n",
            "Performance (Test): \n",
            "              precision    recall  f1-score   support\n",
            "\n",
            "           0       0.76      0.80      0.78        97\n",
            "           1       0.63      0.56      0.59        57\n",
            "\n",
            "    accuracy                           0.71       154\n",
            "   macro avg       0.69      0.68      0.69       154\n",
            "weighted avg       0.71      0.71      0.71       154\n",
            "\n",
            "Confusion Matrix (Test): \n",
            "<sklearn.metrics._plot.confusion_matrix.ConfusionMatrixDisplay object at 0x7f4035c97fd0>\n"
          ]
        },
        {
          "data": {
            "image/png": "[encoded data removed]",
            "text/plain": [
              "<Figure size 432x288 with 2 Axes>"
            ]
          },
          "metadata": {
            "needs_background": "light"
          },
          "output_type": "display_data"
        }
      ],
      "source": [
        "print(\"KNN Model: \")\n",
        "neigh_diabetes = KNeighborsClassifier()\n",
        "neigh_diabetes = learning(X_train_std_diabetes, X_test_std_diabetes, y_train_diabetes, y_test_diabetes, neigh_diabetes)"
      ]
    },
    {
      "cell_type": "code",
      "execution_count": 88,
      "metadata": {
        "colab": {
          "base_uri": "https://localhost:8080/",
          "height": 678
        },
        "id": "p9VB7zL4nHia",
        "outputId": "eef9aff1-1d81-493b-9d28-b47924bd7806"
      },
      "outputs": [
        {
          "name": "stdout",
          "output_type": "stream",
          "text": [
            "Decision Tree Model: \n",
            "Performance (Train): \n",
            "              precision    recall  f1-score   support\n",
            "\n",
            "           0       0.81      0.85      0.83       403\n",
            "           1       0.69      0.63      0.66       211\n",
            "\n",
            "    accuracy                           0.78       614\n",
            "   macro avg       0.75      0.74      0.75       614\n",
            "weighted avg       0.77      0.78      0.77       614\n",
            "\n",
            "Performance (Test): \n",
            "              precision    recall  f1-score   support\n",
            "\n",
            "           0       0.79      0.86      0.82        97\n",
            "           1       0.71      0.61      0.66        57\n",
            "\n",
            "    accuracy                           0.77       154\n",
            "   macro avg       0.75      0.73      0.74       154\n",
            "weighted avg       0.76      0.77      0.76       154\n",
            "\n",
            "Confusion Matrix (Test): \n",
            "<sklearn.metrics._plot.confusion_matrix.ConfusionMatrixDisplay object at 0x7f4035fa1d90>\n"
          ]
        },
        {
          "data": {
            "image/png": "[encoded data removed]",
            "text/plain": [
              "<Figure size 432x288 with 2 Axes>"
            ]
          },
          "metadata": {
            "needs_background": "light"
          },
          "output_type": "display_data"
        }
      ],
      "source": [
        "print(\"Decision Tree Model: \")\n",
        "tree_diabetes = DecisionTreeClassifier(max_depth=3, random_state=42)\n",
        "tree_diabetes = learning(X_train_std_diabetes, X_test_std_diabetes, y_train_diabetes, y_test_diabetes, tree_diabetes)"
      ]
    },
    {
      "cell_type": "code",
      "execution_count": 89,
      "metadata": {
        "colab": {
          "base_uri": "https://localhost:8080/",
          "height": 678
        },
        "id": "KjmUE3DAnH5J",
        "outputId": "f180e22e-f46c-42e9-d612-c53009ba37dc"
      },
      "outputs": [
        {
          "name": "stdout",
          "output_type": "stream",
          "text": [
            "Random Forest Model:\n",
            "Performance (Train): \n",
            "              precision    recall  f1-score   support\n",
            "\n",
            "           0       0.79      0.93      0.85       403\n",
            "           1       0.80      0.52      0.63       211\n",
            "\n",
            "    accuracy                           0.79       614\n",
            "   macro avg       0.79      0.72      0.74       614\n",
            "weighted avg       0.79      0.79      0.77       614\n",
            "\n",
            "Performance (Test): \n",
            "              precision    recall  f1-score   support\n",
            "\n",
            "           0       0.77      0.85      0.81        97\n",
            "           1       0.69      0.58      0.63        57\n",
            "\n",
            "    accuracy                           0.75       154\n",
            "   macro avg       0.73      0.71      0.72       154\n",
            "weighted avg       0.74      0.75      0.74       154\n",
            "\n",
            "Confusion Matrix (Test): \n",
            "<sklearn.metrics._plot.confusion_matrix.ConfusionMatrixDisplay object at 0x7f4038e393a0>\n"
          ]
        },
        {
          "data": {
            "image/png": "[encoded data removed]",
            "text/plain": [
              "<Figure size 432x288 with 2 Axes>"
            ]
          },
          "metadata": {
            "needs_background": "light"
          },
          "output_type": "display_data"
        }
      ],
      "source": [
        "print(\"Random Forest Model:\")\n",
        "rf_diabetes = RandomForestClassifier(n_estimators = 50, max_depth = 3, random_state=42)\n",
        "rf_diabetes = learning(X_train_std_diabetes, X_test_std_diabetes, y_train_diabetes, y_test_diabetes, rf_diabetes)"
      ]
    },
    {
      "cell_type": "code",
      "execution_count": 90,
      "metadata": {
        "colab": {
          "base_uri": "https://localhost:8080/",
          "height": 678
        },
        "id": "2X1MUi1YnIMz",
        "outputId": "0ba3edc7-5e25-4ee6-f0ed-abb29c65f214"
      },
      "outputs": [
        {
          "name": "stdout",
          "output_type": "stream",
          "text": [
            "Bernoulli Naïve Bayes Model: \n",
            "Performance (Train): \n",
            "              precision    recall  f1-score   support\n",
            "\n",
            "           0       0.80      0.82      0.81       403\n",
            "           1       0.64      0.60      0.62       211\n",
            "\n",
            "    accuracy                           0.74       614\n",
            "   macro avg       0.72      0.71      0.71       614\n",
            "weighted avg       0.74      0.74      0.74       614\n",
            "\n",
            "Performance (Test): \n",
            "              precision    recall  f1-score   support\n",
            "\n",
            "           0       0.75      0.73      0.74        97\n",
            "           1       0.56      0.58      0.57        57\n",
            "\n",
            "    accuracy                           0.68       154\n",
            "   macro avg       0.65      0.66      0.65       154\n",
            "weighted avg       0.68      0.68      0.68       154\n",
            "\n",
            "Confusion Matrix (Test): \n",
            "<sklearn.metrics._plot.confusion_matrix.ConfusionMatrixDisplay object at 0x7f4035e5a580>\n"
          ]
        },
        {
          "data": {
            "image/png": "[encoded data removed]",
            "text/plain": [
              "<Figure size 432x288 with 2 Axes>"
            ]
          },
          "metadata": {
            "needs_background": "light"
          },
          "output_type": "display_data"
        }
      ],
      "source": [
        "print('Bernoulli Naïve Bayes Model: ')\n",
        "bnb_diabetes = BernoulliNB(alpha = 1.0)\n",
        "bnb_diabetes = learning(X_train_std_diabetes, X_test_std_diabetes, y_train_diabetes, y_test_diabetes, bnb_diabetes)"
      ]
    },
    {
      "cell_type": "markdown",
      "metadata": {
        "id": "PJw3Lw-Z24St"
      },
      "source": [
        "#Dataset 4: Students Going to College Prediction\n",
        "Source: https://www.kaggle.com/datasets/saddamazyazy/go-to-college-dataset"
      ]
    },
    {
      "cell_type": "code",
      "execution_count": 91,
      "metadata": {
        "colab": {
          "base_uri": "https://localhost:8080/"
        },
        "id": "IwhUZhF7254Z",
        "outputId": "1451a741-1cda-4a07-c012-518373968034"
      },
      "outputs": [
        {
          "name": "stdout",
          "output_type": "stream",
          "text": [
            "    type_school school_accreditation  gender         interest residence  \\\n",
            "0      Academic                    A    Male  Less Interested     Urban   \n",
            "1      Academic                    A    Male  Less Interested     Urban   \n",
            "2      Academic                    B  Female  Very Interested     Urban   \n",
            "3    Vocational                    B    Male  Very Interested     Rural   \n",
            "4      Academic                    A  Female  Very Interested     Urban   \n",
            "..          ...                  ...     ...              ...       ...   \n",
            "995  Vocational                    A  Female  Very Interested     Rural   \n",
            "996    Academic                    B  Female  Less Interested     Rural   \n",
            "997  Vocational                    A    Male  Less Interested     Urban   \n",
            "998    Academic                    B    Male        Uncertain     Rural   \n",
            "999    Academic                    B    Male       Interested     Urban   \n",
            "\n",
            "     parent_age  parent_salary  house_area  average_grades  \\\n",
            "0            56        6950000        83.0           84.09   \n",
            "1            57        4410000        76.8           86.91   \n",
            "2            50        6500000        80.6           87.43   \n",
            "3            49        6600000        78.2           82.12   \n",
            "4            57        5250000        75.1           86.79   \n",
            "..          ...            ...         ...             ...   \n",
            "995          49        7420000        63.6           85.99   \n",
            "996          51        7480000        84.3           89.72   \n",
            "997          49        5550000        75.2           79.56   \n",
            "998          53        5840000       105.8           87.18   \n",
            "999          50        2940000        69.1           86.13   \n",
            "\n",
            "     parent_was_in_college  will_go_to_college  \n",
            "0                    False                True  \n",
            "1                    False                True  \n",
            "2                    False                True  \n",
            "3                     True                True  \n",
            "4                    False               False  \n",
            "..                     ...                 ...  \n",
            "995                   True                True  \n",
            "996                   True                True  \n",
            "997                  False                True  \n",
            "998                   True                True  \n",
            "999                   True               False  \n",
            "\n",
            "[1000 rows x 11 columns]\n"
          ]
        }
      ],
      "source": [
        "# Reading the dataset file from Google Drive\n",
        "college = pd.read_csv('college.csv')\n",
        "# Displaying the dataset\n",
        "print(college)\n",
        "# Applying one-hot encoding for the dataset\n",
        "oheCollege = pd.get_dummies(college[['type_school','school_accreditation','gender','interest','residence','parent_age','parent_salary','house_area','average_grades','parent_was_in_college']])\n",
        "# Separating the Input features and the Output features\n",
        "IN_college = oheCollege\n",
        "OUT_college = college['will_go_to_college']\n",
        "# Creating X and Y training and testing sets by way of train_test_split\n",
        "X_college = IN_college.values\n",
        "y_college = OUT_college.values\n",
        "X_train_college, X_test_college, y_train_college, y_test_college = train_test_split(X_college, y_college,test_size=0.2, train_size=0.8)\n",
        "# Standardizing the X training and testing datasets\n",
        "sc_college = StandardScaler().fit(X_train_college)\n",
        "X_train_std_college = sc_college.transform(X_train_college)\n",
        "X_test_std_college = sc_college.transform(X_test_college)"
      ]
    },
    {
      "cell_type": "code",
      "execution_count": 92,
      "metadata": {
        "colab": {
          "base_uri": "https://localhost:8080/",
          "height": 678
        },
        "id": "nkVix08hyLEU",
        "outputId": "31c459a1-d60a-4105-adcc-1d70d28652ea"
      },
      "outputs": [
        {
          "name": "stdout",
          "output_type": "stream",
          "text": [
            "Logistic Regression Model: \n",
            "Performance (Train): \n",
            "              precision    recall  f1-score   support\n",
            "\n",
            "       False       0.86      0.83      0.85       397\n",
            "        True       0.84      0.87      0.85       403\n",
            "\n",
            "    accuracy                           0.85       800\n",
            "   macro avg       0.85      0.85      0.85       800\n",
            "weighted avg       0.85      0.85      0.85       800\n",
            "\n",
            "Performance (Test): \n",
            "              precision    recall  f1-score   support\n",
            "\n",
            "       False       0.94      0.91      0.93       103\n",
            "        True       0.91      0.94      0.92        97\n",
            "\n",
            "    accuracy                           0.93       200\n",
            "   macro avg       0.93      0.93      0.92       200\n",
            "weighted avg       0.93      0.93      0.93       200\n",
            "\n",
            "Confusion Matrix (Test): \n",
            "<sklearn.metrics._plot.confusion_matrix.ConfusionMatrixDisplay object at 0x7f4035fffb20>\n"
          ]
        },
        {
          "data": {
            "image/png": "[encoded data removed]",
            "text/plain": [
              "<Figure size 432x288 with 2 Axes>"
            ]
          },
          "metadata": {
            "needs_background": "light"
          },
          "output_type": "display_data"
        }
      ],
      "source": [
        "print(\"Logistic Regression Model: \")\n",
        "logreg_college = LogisticRegression(max_iter=10000)\n",
        "logreg_college = learning(X_train_std_college, X_test_std_college, y_train_college, y_test_college, logreg_college)"
      ]
    },
    {
      "cell_type": "code",
      "execution_count": 93,
      "metadata": {
        "colab": {
          "base_uri": "https://localhost:8080/",
          "height": 678
        },
        "id": "nLJaSb-hyN8T",
        "outputId": "c5d9fa46-c53e-4c0f-cdfd-2edfe8334e00"
      },
      "outputs": [
        {
          "name": "stdout",
          "output_type": "stream",
          "text": [
            "KNN Model: \n",
            "Performance (Train): \n",
            "              precision    recall  f1-score   support\n",
            "\n",
            "       False       0.88      0.90      0.89       397\n",
            "        True       0.90      0.88      0.89       403\n",
            "\n",
            "    accuracy                           0.89       800\n",
            "   macro avg       0.89      0.89      0.89       800\n",
            "weighted avg       0.89      0.89      0.89       800\n",
            "\n",
            "Performance (Test): \n",
            "              precision    recall  f1-score   support\n",
            "\n",
            "       False       0.89      0.90      0.89       103\n",
            "        True       0.89      0.88      0.89        97\n",
            "\n",
            "    accuracy                           0.89       200\n",
            "   macro avg       0.89      0.89      0.89       200\n",
            "weighted avg       0.89      0.89      0.89       200\n",
            "\n",
            "Confusion Matrix (Test): \n",
            "<sklearn.metrics._plot.confusion_matrix.ConfusionMatrixDisplay object at 0x7f4038e39be0>\n"
          ]
        },
        {
          "data": {
            "image/png": "[encoded data removed]",
            "text/plain": [
              "<Figure size 432x288 with 2 Axes>"
            ]
          },
          "metadata": {
            "needs_background": "light"
          },
          "output_type": "display_data"
        }
      ],
      "source": [
        "print(\"KNN Model: \")\n",
        "neigh_college = KNeighborsClassifier()\n",
        "neigh_college = learning(X_train_std_college, X_test_std_college, y_train_college, y_test_college, neigh_college)"
      ]
    },
    {
      "cell_type": "code",
      "execution_count": 94,
      "metadata": {
        "colab": {
          "base_uri": "https://localhost:8080/",
          "height": 678
        },
        "id": "_fhEZlwryOVP",
        "outputId": "40d65823-4ba6-456f-b0bb-6f50fa1debff"
      },
      "outputs": [
        {
          "name": "stdout",
          "output_type": "stream",
          "text": [
            "Decision Tree Model: \n",
            "Performance (Train): \n",
            "              precision    recall  f1-score   support\n",
            "\n",
            "       False       0.89      0.67      0.76       397\n",
            "        True       0.74      0.92      0.82       403\n",
            "\n",
            "    accuracy                           0.79       800\n",
            "   macro avg       0.81      0.79      0.79       800\n",
            "weighted avg       0.81      0.79      0.79       800\n",
            "\n",
            "Performance (Test): \n",
            "              precision    recall  f1-score   support\n",
            "\n",
            "       False       0.89      0.70      0.78       103\n",
            "        True       0.74      0.91      0.81        97\n",
            "\n",
            "    accuracy                           0.80       200\n",
            "   macro avg       0.81      0.80      0.80       200\n",
            "weighted avg       0.82      0.80      0.80       200\n",
            "\n",
            "Confusion Matrix (Test): \n",
            "<sklearn.metrics._plot.confusion_matrix.ConfusionMatrixDisplay object at 0x7f403898d2b0>\n"
          ]
        },
        {
          "data": {
            "image/png": "[encoded data removed]",
            "text/plain": [
              "<Figure size 432x288 with 2 Axes>"
            ]
          },
          "metadata": {
            "needs_background": "light"
          },
          "output_type": "display_data"
        }
      ],
      "source": [
        "print(\"Decision Tree Model: \")\n",
        "tree_college = DecisionTreeClassifier(max_depth=3, random_state=42)\n",
        "tree_college = learning(X_train_std_college, X_test_std_college, y_train_college, y_test_college, tree_college)"
      ]
    },
    {
      "cell_type": "code",
      "execution_count": 95,
      "metadata": {
        "colab": {
          "base_uri": "https://localhost:8080/",
          "height": 678
        },
        "id": "LPQlRfa5yOuf",
        "outputId": "9d1d3255-dee6-423f-bd63-f95975474d37"
      },
      "outputs": [
        {
          "name": "stdout",
          "output_type": "stream",
          "text": [
            "Random Forest Model:\n",
            "Performance (Train): \n",
            "              precision    recall  f1-score   support\n",
            "\n",
            "       False       0.83      0.89      0.86       397\n",
            "        True       0.88      0.82      0.85       403\n",
            "\n",
            "    accuracy                           0.85       800\n",
            "   macro avg       0.85      0.85      0.85       800\n",
            "weighted avg       0.85      0.85      0.85       800\n",
            "\n",
            "Performance (Test): \n",
            "              precision    recall  f1-score   support\n",
            "\n",
            "       False       0.87      0.92      0.90       103\n",
            "        True       0.91      0.86      0.88        97\n",
            "\n",
            "    accuracy                           0.89       200\n",
            "   macro avg       0.89      0.89      0.89       200\n",
            "weighted avg       0.89      0.89      0.89       200\n",
            "\n",
            "Confusion Matrix (Test): \n",
            "<sklearn.metrics._plot.confusion_matrix.ConfusionMatrixDisplay object at 0x7f4035d3feb0>\n"
          ]
        },
        {
          "data": {
            "image/png": "[encoded data removed]",
            "text/plain": [
              "<Figure size 432x288 with 2 Axes>"
            ]
          },
          "metadata": {
            "needs_background": "light"
          },
          "output_type": "display_data"
        }
      ],
      "source": [
        "print(\"Random Forest Model:\")\n",
        "rf_college = RandomForestClassifier(n_estimators = 50, max_depth = 3, random_state=42)\n",
        "rf_college = learning(X_train_std_college, X_test_std_college, y_train_college, y_test_college, rf_college)"
      ]
    },
    {
      "cell_type": "code",
      "execution_count": 96,
      "metadata": {
        "colab": {
          "base_uri": "https://localhost:8080/",
          "height": 678
        },
        "id": "oIaORdKAyPCT",
        "outputId": "0608c701-3440-4349-d4fa-75bab79dcae5"
      },
      "outputs": [
        {
          "name": "stdout",
          "output_type": "stream",
          "text": [
            "Bernoulli Naïve Bayes Model: \n",
            "Performance (Train): \n",
            "              precision    recall  f1-score   support\n",
            "\n",
            "       False       0.78      0.81      0.79       397\n",
            "        True       0.80      0.77      0.79       403\n",
            "\n",
            "    accuracy                           0.79       800\n",
            "   macro avg       0.79      0.79      0.79       800\n",
            "weighted avg       0.79      0.79      0.79       800\n",
            "\n",
            "Performance (Test): \n",
            "              precision    recall  f1-score   support\n",
            "\n",
            "       False       0.88      0.85      0.87       103\n",
            "        True       0.85      0.88      0.86        97\n",
            "\n",
            "    accuracy                           0.86       200\n",
            "   macro avg       0.86      0.87      0.86       200\n",
            "weighted avg       0.87      0.86      0.87       200\n",
            "\n",
            "Confusion Matrix (Test): \n",
            "<sklearn.metrics._plot.confusion_matrix.ConfusionMatrixDisplay object at 0x7f403898d5b0>\n"
          ]
        },
        {
          "data": {
            "image/png": "[encoded data removed]",
            "text/plain": [
              "<Figure size 432x288 with 2 Axes>"
            ]
          },
          "metadata": {
            "needs_background": "light"
          },
          "output_type": "display_data"
        }
      ],
      "source": [
        "print('Bernoulli Naïve Bayes Model: ')\n",
        "bnb_college = BernoulliNB(alpha = 1.0)\n",
        "bnb_college = learning(X_train_std_college, X_test_std_college, y_train_college, y_test_college, bnb_college)"
      ]
    },
    {
      "cell_type": "markdown",
      "metadata": {
        "id": "05tW956026VS"
      },
      "source": [
        "#Dataset 5: Heart Attack Prediction\n",
        "Source: https://www.kaggle.com/datasets/rashikrahmanpritom/heart-attack-analysis-prediction-dataset"
      ]
    },
    {
      "cell_type": "code",
      "execution_count": 97,
      "metadata": {
        "colab": {
          "base_uri": "https://localhost:8080/"
        },
        "id": "jfj6OwKr279o",
        "outputId": "afd53604-ffe7-4faf-cfda-f580101afd24"
      },
      "outputs": [
        {
          "name": "stdout",
          "output_type": "stream",
          "text": [
            "     age  sex  cp  trtbps  chol  fbs  restecg  thalachh  exng  oldpeak  slp  \\\n",
            "0     63    1   3     145   233    1        0       150     0      2.3    0   \n",
            "1     37    1   2     130   250    0        1       187     0      3.5    0   \n",
            "2     41    0   1     130   204    0        0       172     0      1.4    2   \n",
            "3     56    1   1     120   236    0        1       178     0      0.8    2   \n",
            "4     57    0   0     120   354    0        1       163     1      0.6    2   \n",
            "..   ...  ...  ..     ...   ...  ...      ...       ...   ...      ...  ...   \n",
            "298   57    0   0     140   241    0        1       123     1      0.2    1   \n",
            "299   45    1   3     110   264    0        1       132     0      1.2    1   \n",
            "300   68    1   0     144   193    1        1       141     0      3.4    1   \n",
            "301   57    1   0     130   131    0        1       115     1      1.2    1   \n",
            "302   57    0   1     130   236    0        0       174     0      0.0    1   \n",
            "\n",
            "     caa  thall  output  \n",
            "0      0      1       1  \n",
            "1      0      2       1  \n",
            "2      0      2       1  \n",
            "3      0      2       1  \n",
            "4      0      2       1  \n",
            "..   ...    ...     ...  \n",
            "298    0      3       0  \n",
            "299    0      3       0  \n",
            "300    2      3       0  \n",
            "301    1      3       0  \n",
            "302    1      2       0  \n",
            "\n",
            "[303 rows x 14 columns]\n"
          ]
        }
      ],
      "source": [
        "# Reading the dataset file from Google Drive\n",
        "heart = pd.read_csv('heart.csv')\n",
        "# Displaying the dataset\n",
        "print(heart)\n",
        "# Separating the Input features and the Output features\n",
        "IN_heart = heart[['age','sex','cp','trtbps','chol','fbs','restecg','thalachh','exng','oldpeak','slp','caa','thall']]\n",
        "OUT_heart = heart['output']\n",
        "# Creating X and Y training and testing sets by way of train_test_split\n",
        "X_heart = IN_heart.values\n",
        "y_heart = OUT_heart.values\n",
        "X_train_heart, X_test_heart, y_train_heart, y_test_heart = train_test_split(X_heart, y_heart,test_size=0.2, train_size=0.8)\n",
        "# Standardizing the X training and testing datasets\n",
        "sc_heart = StandardScaler().fit(X_train_heart)\n",
        "X_train_std_heart = sc_heart.transform(X_train_heart)\n",
        "X_test_std_heart = sc_heart.transform(X_test_heart)"
      ]
    },
    {
      "cell_type": "code",
      "execution_count": 98,
      "metadata": {
        "colab": {
          "base_uri": "https://localhost:8080/",
          "height": 678
        },
        "id": "aAnNZtDw--SX",
        "outputId": "0d0e3692-ac6d-499f-eaeb-c3977f37346a"
      },
      "outputs": [
        {
          "name": "stdout",
          "output_type": "stream",
          "text": [
            "Logistic Regression Model: \n",
            "Performance (Train): \n",
            "              precision    recall  f1-score   support\n",
            "\n",
            "           0       0.87      0.79      0.83       112\n",
            "           1       0.84      0.90      0.87       130\n",
            "\n",
            "    accuracy                           0.85       242\n",
            "   macro avg       0.85      0.85      0.85       242\n",
            "weighted avg       0.85      0.85      0.85       242\n",
            "\n",
            "Performance (Test): \n",
            "              precision    recall  f1-score   support\n",
            "\n",
            "           0       0.83      0.73      0.78        26\n",
            "           1       0.82      0.89      0.85        35\n",
            "\n",
            "    accuracy                           0.82        61\n",
            "   macro avg       0.82      0.81      0.81        61\n",
            "weighted avg       0.82      0.82      0.82        61\n",
            "\n",
            "Confusion Matrix (Test): \n",
            "<sklearn.metrics._plot.confusion_matrix.ConfusionMatrixDisplay object at 0x7f4039100610>\n"
          ]
        },
        {
          "data": {
            "image/png": "[encoded data removed]",
            "text/plain": [
              "<Figure size 432x288 with 2 Axes>"
            ]
          },
          "metadata": {
            "needs_background": "light"
          },
          "output_type": "display_data"
        }
      ],
      "source": [
        "print(\"Logistic Regression Model: \")\n",
        "logreg_heart = LogisticRegression(max_iter=10000)\n",
        "logreg_heart = learning(X_train_std_heart, X_test_std_heart, y_train_heart, y_test_heart, logreg_heart)"
      ]
    },
    {
      "cell_type": "code",
      "execution_count": 99,
      "metadata": {
        "colab": {
          "base_uri": "https://localhost:8080/",
          "height": 678
        },
        "id": "5iexQY7Y--Ht",
        "outputId": "0ce67a06-4cbf-4d27-bfb8-e9ba12bbe468"
      },
      "outputs": [
        {
          "name": "stdout",
          "output_type": "stream",
          "text": [
            "KNN Model: \n",
            "Performance (Train): \n",
            "              precision    recall  f1-score   support\n",
            "\n",
            "           0       0.88      0.88      0.88       112\n",
            "           1       0.90      0.90      0.90       130\n",
            "\n",
            "    accuracy                           0.89       242\n",
            "   macro avg       0.89      0.89      0.89       242\n",
            "weighted avg       0.89      0.89      0.89       242\n",
            "\n",
            "Performance (Test): \n",
            "              precision    recall  f1-score   support\n",
            "\n",
            "           0       0.82      0.69      0.75        26\n",
            "           1       0.79      0.89      0.84        35\n",
            "\n",
            "    accuracy                           0.80        61\n",
            "   macro avg       0.81      0.79      0.79        61\n",
            "weighted avg       0.80      0.80      0.80        61\n",
            "\n",
            "Confusion Matrix (Test): \n",
            "<sklearn.metrics._plot.confusion_matrix.ConfusionMatrixDisplay object at 0x7f4035fbe9a0>\n"
          ]
        },
        {
          "data": {
            "image/png": "[encoded data removed]",
            "text/plain": [
              "<Figure size 432x288 with 2 Axes>"
            ]
          },
          "metadata": {
            "needs_background": "light"
          },
          "output_type": "display_data"
        }
      ],
      "source": [
        "print(\"KNN Model: \")\n",
        "neigh_heart = KNeighborsClassifier()\n",
        "neigh_heart = learning(X_train_std_heart, X_test_std_heart, y_train_heart, y_test_heart, neigh_heart)"
      ]
    },
    {
      "cell_type": "code",
      "execution_count": 100,
      "metadata": {
        "colab": {
          "base_uri": "https://localhost:8080/",
          "height": 682
        },
        "id": "rEE8LCeM--AU",
        "outputId": "fe4fc624-da91-433c-e131-82d732de997e"
      },
      "outputs": [
        {
          "name": "stdout",
          "output_type": "stream",
          "text": [
            "Decision Tree Model: \n",
            "Performance (Train): \n",
            "              precision    recall  f1-score   support\n",
            "\n",
            "           0       0.92      0.82      0.87       112\n",
            "           1       0.86      0.94      0.90       130\n",
            "\n",
            "    accuracy                           0.88       242\n",
            "   macro avg       0.89      0.88      0.88       242\n",
            "weighted avg       0.89      0.88      0.88       242\n",
            "\n",
            "Performance (Test): \n",
            "              precision    recall  f1-score   support\n",
            "\n",
            "           0       0.55      0.62      0.58        26\n",
            "           1       0.69      0.63      0.66        35\n",
            "\n",
            "    accuracy                           0.62        61\n",
            "   macro avg       0.62      0.62      0.62        61\n",
            "weighted avg       0.63      0.62      0.62        61\n",
            "\n",
            "Confusion Matrix (Test): \n",
            "<sklearn.metrics._plot.confusion_matrix.ConfusionMatrixDisplay object at 0x7f4035e60970>\n"
          ]
        },
        {
          "data": {
            "image/png": "[encoded data removed]",
            "text/plain": [
              "<Figure size 432x288 with 2 Axes>"
            ]
          },
          "metadata": {
            "needs_background": "light"
          },
          "output_type": "display_data"
        }
      ],
      "source": [
        "print(\"Decision Tree Model: \")\n",
        "tree_heart = DecisionTreeClassifier(max_depth=3, random_state=42)\n",
        "tree_heart = learning(X_train_std_heart, X_test_std_heart, y_train_heart, y_test_heart, tree_heart)"
      ]
    },
    {
      "cell_type": "code",
      "execution_count": 101,
      "metadata": {
        "colab": {
          "base_uri": "https://localhost:8080/",
          "height": 678
        },
        "id": "dCfBEChw-941",
        "outputId": "1ec9004a-81be-4a28-c32a-78656de1b4ab"
      },
      "outputs": [
        {
          "name": "stdout",
          "output_type": "stream",
          "text": [
            "Random Forest Model:\n",
            "Performance (Train): \n",
            "              precision    recall  f1-score   support\n",
            "\n",
            "           0       0.93      0.82      0.87       112\n",
            "           1       0.86      0.95      0.90       130\n",
            "\n",
            "    accuracy                           0.89       242\n",
            "   macro avg       0.89      0.88      0.89       242\n",
            "weighted avg       0.89      0.89      0.89       242\n",
            "\n",
            "Performance (Test): \n",
            "              precision    recall  f1-score   support\n",
            "\n",
            "           0       0.83      0.73      0.78        26\n",
            "           1       0.82      0.89      0.85        35\n",
            "\n",
            "    accuracy                           0.82        61\n",
            "   macro avg       0.82      0.81      0.81        61\n",
            "weighted avg       0.82      0.82      0.82        61\n",
            "\n",
            "Confusion Matrix (Test): \n",
            "<sklearn.metrics._plot.confusion_matrix.ConfusionMatrixDisplay object at 0x7f4035eb6d30>\n"
          ]
        },
        {
          "data": {
            "image/png": "[encoded data removed]",
            "text/plain": [
              "<Figure size 432x288 with 2 Axes>"
            ]
          },
          "metadata": {
            "needs_background": "light"
          },
          "output_type": "display_data"
        }
      ],
      "source": [
        "print(\"Random Forest Model:\")\n",
        "rf_heart = RandomForestClassifier(n_estimators = 50, max_depth = 3, random_state=42)\n",
        "rf_heart = learning(X_train_std_heart, X_test_std_heart, y_train_heart, y_test_heart, rf_heart)"
      ]
    },
    {
      "cell_type": "code",
      "execution_count": 102,
      "metadata": {
        "colab": {
          "base_uri": "https://localhost:8080/",
          "height": 682
        },
        "id": "gFX0qBKK-9oM",
        "outputId": "8726a808-b816-4f2b-b721-0a0f9df82f17"
      },
      "outputs": [
        {
          "name": "stdout",
          "output_type": "stream",
          "text": [
            "Bernoulli Naïve Bayes Model: \n",
            "Performance (Train): \n",
            "              precision    recall  f1-score   support\n",
            "\n",
            "           0       0.87      0.81      0.84       112\n",
            "           1       0.85      0.89      0.87       130\n",
            "\n",
            "    accuracy                           0.86       242\n",
            "   macro avg       0.86      0.85      0.85       242\n",
            "weighted avg       0.86      0.86      0.85       242\n",
            "\n",
            "Performance (Test): \n",
            "              precision    recall  f1-score   support\n",
            "\n",
            "           0       0.80      0.77      0.78        26\n",
            "           1       0.83      0.86      0.85        35\n",
            "\n",
            "    accuracy                           0.82        61\n",
            "   macro avg       0.82      0.81      0.81        61\n",
            "weighted avg       0.82      0.82      0.82        61\n",
            "\n",
            "Confusion Matrix (Test): \n",
            "<sklearn.metrics._plot.confusion_matrix.ConfusionMatrixDisplay object at 0x7f40388d64c0>\n"
          ]
        },
        {
          "data": {
            "image/png": "[encoded data removed]",
            "text/plain": [
              "<Figure size 432x288 with 2 Axes>"
            ]
          },
          "metadata": {
            "needs_background": "light"
          },
          "output_type": "display_data"
        }
      ],
      "source": [
        "print('Bernoulli Naïve Bayes Model: ')\n",
        "bnb_heart = BernoulliNB(alpha = 1.0)\n",
        "bnb_heart = learning(X_train_std_heart, X_test_std_heart, y_train_heart, y_test_heart, bnb_heart)"
      ]
    }
  ],
  "metadata": {
    "colab": {
      "provenance": []
    },
    "kernelspec": {
      "display_name": "Python 3",
      "name": "python3"
    },
    "language_info": {
      "name": "python"
    }
  },
  "nbformat": 4,
  "nbformat_minor": 0
}
